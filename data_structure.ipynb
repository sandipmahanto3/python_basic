{
 "cells": [
  {
   "cell_type": "code",
   "execution_count": 7,
   "id": "5dfdeae0-fd79-445f-916c-73df4c24444e",
   "metadata": {},
   "outputs": [
    {
     "name": "stdout",
     "output_type": "stream",
     "text": [
      "Hello\n",
      "world!\n",
      "world\n",
      "Hlo ol!\n",
      "!dlrow ,olleH\n"
     ]
    }
   ],
   "source": [
    "# Q.1 - string slicing and examples.\n",
    "# String slicing in Python allows you to extract parts of a string using a specified range of indices.\n",
    "# example\n",
    "s = \"Hello, world!\"\n",
    "print(s[:5])\n",
    "print(s[7:])\n",
    "print(s[-6:-1])\n",
    "print(s[::2])\n",
    "print(s[::-1])  \n"
   ]
  },
  {
   "cell_type": "code",
   "execution_count": 8,
   "id": "fbcae265-2919-44f9-930d-98e652f8dc9f",
   "metadata": {},
   "outputs": [],
   "source": [
    "# Q.2 - key features of list.\n",
    "# Here are the key features of lists in Python:\n",
    "\n",
    "#. Ordered : Items in a list maintain their order.\n",
    "#. Mutable : You can change, add, or remove items.\n",
    "#. Heterogeneous : Can contain different data types (e.g., integers, strings).\n",
    "#. Indexed : Access items using their position (index) starting from 0.\n",
    "#. Slicing : Extract a part of the list using a range of indices.\n",
    "#. Built - in  Methods : Includes methods like append(), remove(), pop(), sort(), and more for various operations."
   ]
  },
  {
   "cell_type": "code",
   "execution_count": 12,
   "id": "42eb947c-859d-4d9f-b363-53a2a69442fc",
   "metadata": {},
   "outputs": [
    {
     "name": "stdout",
     "output_type": "stream",
     "text": [
      "10\n",
      "[25, 20, 30, 40, 50]\n",
      "[20, 30, 40, 50]\n"
     ]
    }
   ],
   "source": [
    "# Q.3 - how to access , modify , and delete elements in a list with example.\n",
    "# To access elements in a list, use the index of the element inside square brackets [].\n",
    "my_list = [10, 20, 30, 40, 50]\n",
    "first_element = my_list[0]\n",
    "print(first_element)\n",
    "\n",
    "# To modify elements, assign a new value to the element at a specific index.\n",
    "my_list = [10, 20, 30, 40, 50]\n",
    "my_list[0] = 25\n",
    "print(my_list)\n",
    "\n",
    "# To delete elements, use the del statement followed by the index of the element.\n",
    "\n",
    "my_list = [10, 20, 30, 40, 50]\n",
    "del my_list[0]\n",
    "print(my_list)\n",
    "\n",
    "\n"
   ]
  },
  {
   "cell_type": "code",
   "execution_count": 18,
   "id": "70a4b814-c226-4ae6-ba18-419d2a743ea9",
   "metadata": {},
   "outputs": [
    {
     "name": "stdout",
     "output_type": "stream",
     "text": [
      "[10, 2, 3, 4]\n"
     ]
    }
   ],
   "source": [
    "# Q.4 - compare and contrast tuples and lists with examples.\n",
    "# list: \n",
    "# Mutable*: You can change, add, or remove items after the list is created.\n",
    "# (i) Syntax : Defined using square brackets [].\n",
    "# (ii) Usage : Suitable for collections that need to be modified.\n",
    "# example\n",
    "my_list = [1, 2, 3]\n",
    "my_list.append(4)\n",
    "my_list[0] = 10\n",
    "print(my_list)\n",
    "\n",
    "# tuple:\n",
    "# *Immutable*: Once created, you cannot change, add, or remove items.\n",
    "# Syntax : Defined using parentheses ().\n",
    "# Usage : Suitable for collections that should not change, providing a form of data integrit\n",
    "# example\n",
    "my_tuple = (1 , 2 , 3)\n",
    "my_tuple [0] = 10 - this would raise a error\n",
    "\n",
    "# comparison\n",
    "\n",
    "# Mutability : Lists can be modified, while tuples cannot.\n",
    "# Performance : Tuples can be slightly faster than lists due to their immutability.\n",
    "# Syntax : Lists use [], tuples use ().\n",
    "# Use cases : Lists for dynamic collections, tuples for fixed collections.\n",
    "\n",
    "# contrast\n",
    "#  Modifying items:\n",
    "# List: my_list[0] = 10\n",
    "# Tuple: Not possible (my_tuple[0] = 10 raises an error)\n",
    "# Adding items:\n",
    "# List: my_list.append(4)\n",
    "# Tuple: Not possible (my_tuple + (4,) creates a new tuple)\n",
    "\n",
    "\n"
   ]
  },
  {
   "cell_type": "code",
   "execution_count": 29,
   "id": "947c6e9f-d7c6-47c0-a3a6-f1abea7f4f83",
   "metadata": {},
   "outputs": [
    {
     "name": "stdout",
     "output_type": "stream",
     "text": [
      "{1, 2, 3, 4}\n",
      "{1, 59, 9, 23}\n",
      "{1, 2, 3, 4, 5}\n",
      "{1, 3, 4, 5}\n"
     ]
    }
   ],
   "source": [
    "# Q.5 -describe the key features of sets and provide examples of their use\n",
    "# Sets in Python are unordered collections of unique elements.\n",
    "# (i) Unique Elements : A set automatically removes duplicates.\n",
    "my_set = {1, 2, 3, 3, 4}\n",
    "print(my_set)\n",
    "\n",
    "# (ii) Unordered*: The elements have no specific order.\n",
    "my_sets = { 1 , 23 , 59 , 9 }\n",
    "print(my_sets)\n",
    "\n",
    "# (iii) Mutable : You can add or remove elements.\n",
    "my_set.add(5)\n",
    "print(my_set)\n",
    "my_set.remove(2)\n",
    "print(my_set)\n",
    "\n",
    "\n"
   ]
  },
  {
   "cell_type": "code",
   "execution_count": 30,
   "id": "6cc92ef1-24e0-49ab-b44d-2c878ce4a6d5",
   "metadata": {},
   "outputs": [],
   "source": [
    "# Q.6 - the use cases of tuples and sets in python.\n",
    "# Tuples:\n",
    "# (i) : Fixed Data : Use tuples when you have a collection of items that should not change, like coordinates (x, y)\n",
    "# (ii) : Heterogeneous Data : Tuples can store a mix of different data types, like a record (name, age, height)\n",
    "# (iii) : Dictionary Keys : Tuples can be used as keys in dictionaries because they are immutable\n",
    "\n",
    "# Sets:\n",
    "# (i) : Unique Items : Use sets to store a collection of unique items, like a list of unique user IDs.\n",
    "# (ii) : Membership Testing : Sets are optimized for checking if an item exists in the collection.\n",
    "# (iii) : Removing Duplicates*: Sets can be used to remove duplicates from a list.\n",
    "\n"
   ]
  },
  {
   "cell_type": "code",
   "execution_count": 3,
   "id": "457d97ba-4fdb-4dc9-b96d-ba3b36091e92",
   "metadata": {},
   "outputs": [
    {
     "name": "stdout",
     "output_type": "stream",
     "text": [
      "{'a': 1, 'b': 2, 'c': 3}\n",
      "{'a': 1, 'b': 20, 'c': 3}\n",
      "{'b': 20, 'c': 3}\n"
     ]
    }
   ],
   "source": [
    "# Q.7 - how to add , modify and delete items in a dictionary with example\n",
    "# add : To add an item to a dictionary, you simply assign a value to a new key.\n",
    "# example : \n",
    "my_dict = {\"a\": 1, \"b\": 2}\n",
    "my_dict[\"c\"] = 3\n",
    "print(my_dict)\n",
    "\n",
    "# modify : To modify an item, you assign a new value to an existing key.\n",
    "# example : \n",
    "my_dict[\"b\"] = 20\n",
    "print(my_dict)\n",
    "\n",
    "# delete : To delete an item, you use the del statement or the pop method.\n",
    "# example :\n",
    "del my_dict[\"a\"]\n",
    "print(my_dict)\n"
   ]
  },
  {
   "cell_type": "code",
   "execution_count": null,
   "id": "22a59238-65c4-4bb0-a731-e50cfb5bd7bb",
   "metadata": {},
   "outputs": [],
   "source": [
    "# Q.8 - importance of dictionary keys being immutable and example\n",
    "# in Python, dictionary keys must be immutable because the dictionary uses a hash table to store key-value pairs. Immutability ensures that the hash value of the key remains constant, allowing for fast lookups and ensuring the integrity of the data structure.\n",
    "# example : valid\n",
    "my_dict = {1: \"one\",\"two\": 2, (3, 4): \"tuple\"}\n",
    "# we can use tuple in dictionary because it it immutable.\n",
    "# example : invalid\n",
    "my_dict = {[1, 2]: \"list\"}\n",
    "# list is mutable and cannot be used as a key\n",
    "# In this example, integers, strings, and tuples are immutable and can be used as keys, while lists are mutable and cannot be used as dictionary keys.\n",
    "# conclusion :\n",
    "# being immutable the dictionary keys help us in many ways like to store employee details and restaurant menu where we don't want any change and want a key that doesn't cha\n",
    "\n"
   ]
  },
  {
   "cell_type": "code",
   "execution_count": null,
   "id": "c111bfa4-ffab-405f-a914-db51e67fe6f2",
   "metadata": {},
   "outputs": [],
   "source": []
  }
 ],
 "metadata": {
  "kernelspec": {
   "display_name": "Python 3 (ipykernel)",
   "language": "python",
   "name": "python3"
  },
  "language_info": {
   "codemirror_mode": {
    "name": "ipython",
    "version": 3
   },
   "file_extension": ".py",
   "mimetype": "text/x-python",
   "name": "python",
   "nbconvert_exporter": "python",
   "pygments_lexer": "ipython3",
   "version": "3.10.8"
  }
 },
 "nbformat": 4,
 "nbformat_minor": 5
}
