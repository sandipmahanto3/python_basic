{
 "cells": [
  {
   "cell_type": "code",
   "execution_count": 3,
   "id": "6aedb3e9-e33b-4fe4-8f5c-40cf3cb2b78e",
   "metadata": {},
   "outputs": [
    {
     "name": "stdout",
     "output_type": "stream",
     "text": [
      "hello, sandip\n"
     ]
    }
   ],
   "source": [
    "# 1. explaining key features of python\n",
    "# python features : a. readble , b. easy to learn. c. versatile , d. extensive library , e. community support , f. widely adopted\n",
    "# example 1:\n",
    "x = 1\n",
    "if x > 2:\n",
    "    print(\"hello world\")\n",
    "# example 2. \n",
    "name = \"sandip\"\n",
    "if name == \"sandip\":\n",
    "    print(\"hello, \" + name)"
   ]
  },
  {
   "cell_type": "code",
   "execution_count": 4,
   "id": "35784c36-240a-4264-95b6-c20e8c294179",
   "metadata": {},
   "outputs": [
    {
     "name": "stdout",
     "output_type": "stream",
     "text": [
      "x is greater than 10 but less than or equal to 25\n",
      "0\n",
      "1\n",
      "2\n",
      "3\n",
      "4\n",
      "0\n",
      "1\n",
      "2\n",
      "3\n",
      "4\n"
     ]
    }
   ],
   "source": [
    "# 2. some predefined keywords in python and how they are used\n",
    "# they are form of syntax and structure of python programs and can not be used as name variable\n",
    "# 1. if , elif , else: used for conditional statements\n",
    "# example:\n",
    "x = 15\n",
    "if x > 25:\n",
    "    print(\" x is greater than 25\")\n",
    "elif x > 10:\n",
    "    print(\"x is greater than 10 but less than or equal to 25\")\n",
    "else:\n",
    "    print(\"x is 5 or less\")\n",
    "#for , while : used for loops\n",
    "#example\n",
    "for i in range(5):\n",
    "    print(i)\n",
    "count = 0\n",
    "while count < 5:\n",
    "    print(count)\n",
    "    count += 1"
   ]
  },
  {
   "cell_type": "code",
   "execution_count": null,
   "id": "9d49ffa7-e273-433c-a31f-04900cc4ba63",
   "metadata": {},
   "outputs": [],
   "source": [
    "# 3. compare and contrast mutable and immutable objects in python\n",
    "# objects can be categorized as either mutable or immutable\n",
    "# mutable objects : it can be changed after creation , like - lists , dictionaries , sets\n",
    "# example\n",
    "my_list = [ 1 , 2 , 3 ]\n",
    "my_list[0] = 4\n",
    "print(my_list)\n",
    "# immutable objects ; is can not be changed after creation , like - integers , strings\n",
    "#example\n",
    "x = 5\n",
    "x x +1\n",
    "print(x)"
   ]
  },
  {
   "cell_type": "code",
   "execution_count": null,
   "id": "08393b3a-eeb9-4c05-b47e-590cbb2ce7e2",
   "metadata": {},
   "outputs": [],
   "source": [
    "# 4. different types of operators and their examples\n",
    "# operators are special symbols that perform operations on variable and value.\n",
    "# a. arithmetic operators : these operator perform mathematical operations\n",
    "# example\n",
    "# (i) addition:  x = 5 + 3\n",
    "# (ii) subtractin: x = 4 - 2\n",
    "# (iii) multiplication: x = 4 * 6\n",
    "# (iv) division: x = 8 / 4\n",
    "# b. comparison operator: these operators compare two values\n",
    "# example\n",
    "# (i) equal: x = ( 5 == 3 )\n",
    "# (ii) greater than: x = ( 5 > 3 )\n",
    "# (iii) less than: x = ( 5 < 3 )\n",
    "# c. bitwise operators: these operators perform bit level operation\n",
    "# example\n",
    "# (i) and: x = 5 & 3\n",
    "# (ii) or: x = 5 | 3\n",
    "# (iii) xor: x = 5 ^ 3\n",
    "# (iv) not: x = ~ 5"
   ]
  },
  {
   "cell_type": "code",
   "execution_count": 25,
   "id": "aba6d102-4678-41ed-8ec8-e796fd7c322f",
   "metadata": {},
   "outputs": [
    {
     "data": {
      "text/plain": [
       "2.0"
      ]
     },
     "execution_count": 25,
     "metadata": {},
     "output_type": "execute_result"
    }
   ],
   "source": [
    "# 5. concept of type casting and examples\n",
    "# type casting is a process that converts one data type into another\n",
    "# we need it because while we executing a code using operators there can be mismatch between the data types\n",
    "# type casting can make a \"string\" to integer and a integer to \"strings\"\n",
    "# example\n",
    "# string to integer\n",
    "a = \"2\"\n",
    "b = 3\n",
    "int (a) + b\n",
    "# float to integer\n",
    "a = 3.4\n",
    "int(a)\n",
    "# integer to float\n",
    "a = 2\n",
    "float (a)\n",
    "# there are two types of type casting : such as - (i) implicit , (ii) explicit\n",
    "# implicit: a = 2\n",
    "#explicit:\n",
    "b = 3\n",
    "int (a) + b"
   ]
  },
  {
   "cell_type": "code",
   "execution_count": 26,
   "id": "7015dd64-0be2-46d8-ac52-d1f587bbbe85",
   "metadata": {},
   "outputs": [
    {
     "name": "stdout",
     "output_type": "stream",
     "text": [
      " x is greater than 5\n",
      "x is 5 or less\n",
      "x is greater than 5 but less or equal to 10\n"
     ]
    }
   ],
   "source": [
    "# 6. how conditional statements work and their example \n",
    "# conditional statements allow us to execute certain pieces of code based on condition is true or false. they help us in decision making\n",
    "# if statement: execute a block of code if a specified condition is true\n",
    "# example\n",
    "x = 10\n",
    "if x > 5:\n",
    "    print(\" x is greater than 5\")\n",
    "# elif statements: it allows us to check multiple condition\n",
    "# example\n",
    "x = 3\n",
    "if x > 5:\n",
    "    print(\"x is greater than 5\")\n",
    "else:\n",
    "    print(\"x is 5 or less\")\n",
    "# else statements: executes a block of code if non of the preceding conditions are true\n",
    "# example\n",
    "x = 7\n",
    "if x > 10:\n",
    "    print(\"x is greater than 10\")\n",
    "elif x > 5:\n",
    "    print(\"x is greater than 5 but less or equal to 10\")\n",
    "else:\n",
    "    print(\"x is 5 or less\")\n",
    "          "
   ]
  },
  {
   "cell_type": "code",
   "execution_count": 1,
   "id": "2e2ebbee-dc63-413e-97e7-690632a3d946",
   "metadata": {},
   "outputs": [
    {
     "name": "stdout",
     "output_type": "stream",
     "text": [
      "1\n",
      "2\n",
      "3\n",
      "4\n",
      "5\n",
      "1\n",
      "2\n",
      "2\n",
      "4\n",
      "5\n",
      "6\n",
      "7\n",
      "pwskill\n",
      "p\n",
      "w\n",
      "s\n",
      "k\n",
      "i\n",
      "l\n",
      "l\n",
      "pwskill\n"
     ]
    }
   ],
   "source": [
    "# 7. different types of loop and their use cases with example\n",
    "# loop: allows us to execute a block of code repeatedly\n",
    "# types of loop: (i) while loop (ii) for loop\n",
    "# while loop: it repeatedly executed a block of code untill a certain condition is met\n",
    "# example\n",
    "n = 6\n",
    "i = 1\n",
    "while i < n:\n",
    "    print(i)\n",
    "    i = i + 1\n",
    "# break loop: when the condition is met it will break\n",
    "#example\n",
    "n = 7\n",
    "i = 1\n",
    "while i < n:\n",
    "    print(i)\n",
    "    i = i + 1\n",
    "    if  i == 3:\n",
    "        break\n",
    "else:\n",
    "    print(\"pwskill\")\n",
    "# continue loop: it causes the loop to immediately jump to the next iteration and bypassing the remaining code\n",
    "# example\n",
    "n = 7\n",
    "i = 1\n",
    "while i < n:\n",
    "    i = i + 1\n",
    "    if i == 3:\n",
    "        continue\n",
    "    print(i)\n",
    "else:\n",
    "    print(\"pwskill\")\n",
    "# for loop: iterate over a sequence of elements\n",
    "# example\n",
    "for i in \"pwskill\":\n",
    "    print(i)\n",
    "# break - for:\n",
    "# example \n",
    "l = [ 1 , 2 , \"sandip\" ]\n",
    "for i in l:\n",
    "    if i == \"sandip\":\n",
    "        break\n",
    "        print(i)\n",
    "else:\n",
    "    print(\"hello world\")\n",
    "# continue - for:\n",
    "# example\n",
    "for i in l:\n",
    "    if i == \"sandip\":\n",
    "        continue\n",
    "        print(i)\n",
    "else:\n",
    "    print(\"pwskill\")\n",
    "\n",
    "    "
   ]
  },
  {
   "cell_type": "code",
   "execution_count": null,
   "id": "c09af6b2-b585-4d0b-bc49-c7772e391d38",
   "metadata": {},
   "outputs": [],
   "source": []
  }
 ],
 "metadata": {
  "kernelspec": {
   "display_name": "Python 3 (ipykernel)",
   "language": "python",
   "name": "python3"
  },
  "language_info": {
   "codemirror_mode": {
    "name": "ipython",
    "version": 3
   },
   "file_extension": ".py",
   "mimetype": "text/x-python",
   "name": "python",
   "nbconvert_exporter": "python",
   "pygments_lexer": "ipython3",
   "version": "3.10.8"
  }
 },
 "nbformat": 4,
 "nbformat_minor": 5
}
